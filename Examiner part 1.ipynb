{
 "cells": [
  {
   "cell_type": "markdown",
   "id": "0a2943a6-ce10-455e-9e11-8001292a3cf7",
   "metadata": {},
   "source": [
    "1. מה היתרונות והחסרונות של שימוש במידע גולמי ללא עיבוד או ניקוי?\n",
    "תשובה: היתרונות, גישה מהירה למידע וחיסכון בזמן העיבוד\n",
    "החסרונות יכול להוביל את הת התוכנית לשגיאות ולנתונים לא אמינים\n",
    "\n",
    "2. אילו סוגי טעויות עלולות להופיע במידע גולמי ?\n",
    "תשובה: ישם כמה טעויות שיכולות להופיע כמו ערכים חסרים (missing values), ערכים כפולים, וערכים שהם חריגים (outliers) אפשר לזהות אותם ולתקן אותם עם drop_duplicates\n",
    "\n",
    "3. נתוני משוב חסרים של חברת מים מינרלים:\n",
    "פתרון לערכים חסרים בתאריך:\n",
    "אפשר להשלים תאריך לפי סדר כרונולוגי או ממוצע של תאריכים קיימים.\n",
    "פתרון לערכים חסרים במיקום מגורים:\n",
    "שימוש בערך הנפוץ ביותר (mode) של מגורים.\n",
    "פתרון לערכים כפולים:\n",
    "שמירה על המופע הראשון בלבד עם .drop_duplicates(subset=['cust_id'], keep='first')."
   ]
  }
 ],
 "metadata": {
  "kernelspec": {
   "display_name": "Python 3 (ipykernel)",
   "language": "python",
   "name": "python3"
  },
  "language_info": {
   "codemirror_mode": {
    "name": "ipython",
    "version": 3
   },
   "file_extension": ".py",
   "mimetype": "text/x-python",
   "name": "python",
   "nbconvert_exporter": "python",
   "pygments_lexer": "ipython3",
   "version": "3.12.7"
  }
 },
 "nbformat": 4,
 "nbformat_minor": 5
}
