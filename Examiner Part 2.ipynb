{
 "cells": [
  {
   "cell_type": "code",
   "execution_count": 2,
   "id": "3006d91c-af90-45f9-8165-1694599fe825",
   "metadata": {},
   "outputs": [
    {
     "data": {
      "text/plain": [
       "[{'cust_id': 1,\n",
       "  'timestamp': '2024-01-01',\n",
       "  'residence': 'Tel Aviv',\n",
       "  'grade': 8},\n",
       " {'cust_id': 2,\n",
       "  'timestamp': '2024-01-02',\n",
       "  'residence': 'Jerusalem',\n",
       "  'grade': None},\n",
       " {'cust_id': 3, 'timestamp': '2024-01-04', 'residence': None, 'grade': 7}]"
      ]
     },
     "execution_count": 2,
     "metadata": {},
     "output_type": "execute_result"
    }
   ],
   "source": [
    "data = [\n",
    "    {\"cust_id\": 1, \"timestamp\": \"2024-01-01\", \"residence\": \"Tel Aviv\", \"grade\": 8},\n",
    "    {\"cust_id\": 2, \"timestamp\": \"2024-01-02\", \"residence\": \"Jerusalem\", \"grade\": None},\n",
    "    {\"cust_id\": 1, \"timestamp\": \"2024-01-03\", \"residence\": \"Tel Aviv\", \"grade\": 8},\n",
    "    {\"cust_id\": 3, \"timestamp\": \"2024-01-04\", \"residence\": None, \"grade\": 7},\n",
    "    {\"cust_id\": 2, \"timestamp\": \"2024-01-05\", \"residence\": \"Jerusalem\", \"grade\": None}\n",
    "]\n",
    "\n",
    "unique_data = []\n",
    "seen_cust_ids = set()\n",
    "\n",
    "for record in data:\n",
    "    if record['cust_id'] not in seen_cust_ids:\n",
    "        unique_data.append(record)\n",
    "        seen_cust_ids.add(record['cust_id'])\n",
    "\n",
    "unique_data"
   ]
  },
  {
   "cell_type": "code",
   "execution_count": 4,
   "id": "46047d05-7c03-4458-bdac-eeae4d9bc9e1",
   "metadata": {},
   "outputs": [
    {
     "data": {
      "text/plain": [
       "[{'cust_id': 1,\n",
       "  'timestamp': '2024-01-01',\n",
       "  'residence': 'Tel Aviv',\n",
       "  'grade': 8}]"
      ]
     },
     "execution_count": 4,
     "metadata": {},
     "output_type": "execute_result"
    }
   ],
   "source": [
    "filtered_data = [record for record in unique_data if None not in record.values()]\n",
    "filtered_data"
   ]
  },
  {
   "cell_type": "code",
   "execution_count": 6,
   "id": "4ef86f83-14e2-4441-9556-c18a44fc1289",
   "metadata": {},
   "outputs": [
    {
     "data": {
      "text/plain": [
       "[{'cust_id': 1,\n",
       "  'timestamp': '2024-01-01',\n",
       "  'residence': 'Tel Aviv',\n",
       "  'grade': 8},\n",
       " {'cust_id': 2,\n",
       "  'timestamp': '2024-01-02',\n",
       "  'residence': 'Jerusalem',\n",
       "  'grade': 8.0},\n",
       " {'cust_id': 3, 'timestamp': '2024-01-04', 'residence': None, 'grade': 7}]"
      ]
     },
     "execution_count": 6,
     "metadata": {},
     "output_type": "execute_result"
    }
   ],
   "source": [
    "grades = [record['grade'] for record in filtered_data if record['grade'] is not None]\n",
    "average_grade = sum(grades) / len(grades) if grades else 0\n",
    "\n",
    "updated_data = [\n",
    "    {**record, 'grade': average_grade if record['grade'] is None else record['grade']}\n",
    "    for record in unique_data\n",
    "]\n",
    "updated_data"
   ]
  },
  {
   "cell_type": "code",
   "execution_count": 20,
   "id": "505b90e6-4175-4432-9de4-6c77e30e2f90",
   "metadata": {},
   "outputs": [
    {
     "data": {
      "text/html": [
       "<div>\n",
       "<style scoped>\n",
       "    .dataframe tbody tr th:only-of-type {\n",
       "        vertical-align: middle;\n",
       "    }\n",
       "\n",
       "    .dataframe tbody tr th {\n",
       "        vertical-align: top;\n",
       "    }\n",
       "\n",
       "    .dataframe thead th {\n",
       "        text-align: right;\n",
       "    }\n",
       "</style>\n",
       "<table border=\"1\" class=\"dataframe\">\n",
       "  <thead>\n",
       "    <tr style=\"text-align: right;\">\n",
       "      <th></th>\n",
       "      <th>cust_id</th>\n",
       "      <th>timestamp</th>\n",
       "      <th>residence</th>\n",
       "      <th>grade</th>\n",
       "    </tr>\n",
       "  </thead>\n",
       "  <tbody>\n",
       "    <tr>\n",
       "      <th>0</th>\n",
       "      <td>1</td>\n",
       "      <td>2024-01-01</td>\n",
       "      <td>Tel Aviv</td>\n",
       "      <td>8.0</td>\n",
       "    </tr>\n",
       "    <tr>\n",
       "      <th>1</th>\n",
       "      <td>2</td>\n",
       "      <td>2024-01-02</td>\n",
       "      <td>Jerusalem</td>\n",
       "      <td>NaN</td>\n",
       "    </tr>\n",
       "    <tr>\n",
       "      <th>3</th>\n",
       "      <td>3</td>\n",
       "      <td>2024-01-04</td>\n",
       "      <td>None</td>\n",
       "      <td>7.0</td>\n",
       "    </tr>\n",
       "  </tbody>\n",
       "</table>\n",
       "</div>"
      ],
      "text/plain": [
       "   cust_id   timestamp  residence  grade\n",
       "0        1  2024-01-01   Tel Aviv    8.0\n",
       "1        2  2024-01-02  Jerusalem    NaN\n",
       "3        3  2024-01-04       None    7.0"
      ]
     },
     "execution_count": 20,
     "metadata": {},
     "output_type": "execute_result"
    }
   ],
   "source": [
    "import pandas as pd\n",
    "data = [\n",
    "    {\"cust_id\": 1, \"timestamp\": \"2024-01-01\", \"residence\": \"Tel Aviv\", \"grade\": 8},\n",
    "    {\"cust_id\": 2, \"timestamp\": \"2024-01-02\", \"residence\": \"Jerusalem\", \"grade\": None},\n",
    "    {\"cust_id\": 1, \"timestamp\": \"2024-01-03\", \"residence\": \"Tel Aviv\", \"grade\": 8},\n",
    "    {\"cust_id\": 3, \"timestamp\": \"2024-01-04\", \"residence\": None, \"grade\": 7},\n",
    "    {\"cust_id\": 2, \"timestamp\": \"2024-01-05\", \"residence\": \"Jerusalem\", \"grade\": None}\n",
    "]\n",
    "df = pd.DataFrame(data)\n",
    "# 1\n",
    "df = df.drop_duplicates(subset=['cust_id'])\n",
    "# 2\n",
    "df_cleaned = df.dropna()\n",
    "# 3\n",
    "average_grades = df.groupby('residence')['grade'].mean()\n",
    "\n",
    "df['grade'] = df.apply(\n",
    "    lambda row: average_grades.get(row['residence'], None) if pd.isna(row['grade']) else row['grade'],\n",
    "    axis=1\n",
    ")\n",
    "df"
   ]
  },
  {
   "cell_type": "code",
   "execution_count": null,
   "id": "d1e92d62-12cf-49d1-990d-90e85cf9135c",
   "metadata": {},
   "outputs": [],
   "source": []
  }
 ],
 "metadata": {
  "kernelspec": {
   "display_name": "Python 3 (ipykernel)",
   "language": "python",
   "name": "python3"
  },
  "language_info": {
   "codemirror_mode": {
    "name": "ipython",
    "version": 3
   },
   "file_extension": ".py",
   "mimetype": "text/x-python",
   "name": "python",
   "nbconvert_exporter": "python",
   "pygments_lexer": "ipython3",
   "version": "3.12.7"
  }
 },
 "nbformat": 4,
 "nbformat_minor": 5
}
